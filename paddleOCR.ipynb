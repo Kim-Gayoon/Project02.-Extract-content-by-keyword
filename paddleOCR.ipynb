{
  "cells": [
    {
      "cell_type": "code",
      "source": [
        "from PIL import Image\n",
        "import cv2\n",
        "import numpy as np\n",
        "import pandas as pd \n",
        "import tensorflow as tf"
      ],
      "metadata": {
        "id": "mhEjVUbiUytV"
      },
      "execution_count": 1,
      "outputs": []
    },
    {
      "cell_type": "code",
      "source": [
        "#!pip install paddlepaddle-gpu==2.3.2 cudatoolkit==10.2"
      ],
      "metadata": {
        "id": "JejuCeNXHckg"
      },
      "execution_count": null,
      "outputs": []
    },
    {
      "cell_type": "code",
      "source": [
        "!pip install paddlepaddle-gpu==2.3.0.post110 -f https://www.paddlepaddle.org.cn/whl/linux/mkl/avx/stable.html"
      ],
      "metadata": {
        "colab": {
          "base_uri": "https://localhost:8080/"
        },
        "id": "xWhdOt9Jay6z",
        "outputId": "a08c9399-a828-4ba7-c10b-b045fa84f08b"
      },
      "execution_count": 2,
      "outputs": [
        {
          "output_type": "stream",
          "name": "stdout",
          "text": [
            "Looking in indexes: https://pypi.org/simple, https://us-python.pkg.dev/colab-wheels/public/simple/\n",
            "Looking in links: https://www.paddlepaddle.org.cn/whl/linux/mkl/avx/stable.html\n",
            "Collecting paddlepaddle-gpu==2.3.0.post110\n",
            "  Downloading https://paddle-wheel.bj.bcebos.com/2.3.0/linux/linux-gpu-cuda11.0-cudnn8-mkl-gcc8.2-avx/paddlepaddle_gpu-2.3.0.post110-cp38-cp38-linux_x86_64.whl (532.9 MB)\n",
            "\u001b[K     |████████████████████████████████| 532.9 MB 12 kB/s \n",
            "\u001b[?25hRequirement already satisfied: six in /usr/local/lib/python3.8/dist-packages (from paddlepaddle-gpu==2.3.0.post110) (1.15.0)\n",
            "Collecting paddle-bfloat==0.1.2\n",
            "  Downloading paddle_bfloat-0.1.2-cp38-cp38-manylinux_2_5_x86_64.manylinux1_x86_64.manylinux_2_12_x86_64.manylinux2010_x86_64.whl (378 kB)\n",
            "\u001b[K     |████████████████████████████████| 378 kB 33.8 MB/s \n",
            "\u001b[?25hRequirement already satisfied: requests>=2.20.0 in /usr/local/lib/python3.8/dist-packages (from paddlepaddle-gpu==2.3.0.post110) (2.23.0)\n",
            "Requirement already satisfied: Pillow in /usr/local/lib/python3.8/dist-packages (from paddlepaddle-gpu==2.3.0.post110) (7.1.2)\n",
            "Requirement already satisfied: astor in /usr/local/lib/python3.8/dist-packages (from paddlepaddle-gpu==2.3.0.post110) (0.8.1)\n",
            "Requirement already satisfied: opt-einsum==3.3.0 in /usr/local/lib/python3.8/dist-packages (from paddlepaddle-gpu==2.3.0.post110) (3.3.0)\n",
            "Requirement already satisfied: protobuf>=3.1.0 in /usr/local/lib/python3.8/dist-packages (from paddlepaddle-gpu==2.3.0.post110) (3.19.6)\n",
            "Requirement already satisfied: numpy>=1.13 in /usr/local/lib/python3.8/dist-packages (from paddlepaddle-gpu==2.3.0.post110) (1.21.6)\n",
            "Requirement already satisfied: decorator in /usr/local/lib/python3.8/dist-packages (from paddlepaddle-gpu==2.3.0.post110) (4.4.2)\n",
            "Requirement already satisfied: chardet<4,>=3.0.2 in /usr/local/lib/python3.8/dist-packages (from requests>=2.20.0->paddlepaddle-gpu==2.3.0.post110) (3.0.4)\n",
            "Requirement already satisfied: certifi>=2017.4.17 in /usr/local/lib/python3.8/dist-packages (from requests>=2.20.0->paddlepaddle-gpu==2.3.0.post110) (2022.12.7)\n",
            "Requirement already satisfied: idna<3,>=2.5 in /usr/local/lib/python3.8/dist-packages (from requests>=2.20.0->paddlepaddle-gpu==2.3.0.post110) (2.10)\n",
            "Requirement already satisfied: urllib3!=1.25.0,!=1.25.1,<1.26,>=1.21.1 in /usr/local/lib/python3.8/dist-packages (from requests>=2.20.0->paddlepaddle-gpu==2.3.0.post110) (1.24.3)\n",
            "Installing collected packages: paddle-bfloat, paddlepaddle-gpu\n",
            "Successfully installed paddle-bfloat-0.1.2 paddlepaddle-gpu-2.3.0.post110\n"
          ]
        }
      ]
    },
    {
      "cell_type": "markdown",
      "metadata": {
        "id": "dvKiMyj2feUe"
      },
      "source": [
        "# pdf2image"
      ]
    },
    {
      "cell_type": "markdown",
      "source": [
        "## Installation"
      ],
      "metadata": {
        "id": "aIz56VvlWkf-"
      }
    },
    {
      "cell_type": "code",
      "source": [
        "!pip install pdf2image\n",
        "!apt-get update\n",
        "!apt-get install poppler-utils"
      ],
      "metadata": {
        "colab": {
          "base_uri": "https://localhost:8080/"
        },
        "id": "biSgyAkWnUD3",
        "outputId": "497d1947-862e-4fee-b52f-83a21ff81cc7"
      },
      "execution_count": 3,
      "outputs": [
        {
          "output_type": "stream",
          "name": "stdout",
          "text": [
            "Looking in indexes: https://pypi.org/simple, https://us-python.pkg.dev/colab-wheels/public/simple/\n",
            "Collecting pdf2image\n",
            "  Downloading pdf2image-1.16.2-py3-none-any.whl (11 kB)\n",
            "Requirement already satisfied: pillow in /usr/local/lib/python3.8/dist-packages (from pdf2image) (7.1.2)\n",
            "Installing collected packages: pdf2image\n",
            "Successfully installed pdf2image-1.16.2\n",
            "Hit:1 http://archive.ubuntu.com/ubuntu bionic InRelease\n",
            "Get:2 http://archive.ubuntu.com/ubuntu bionic-updates InRelease [88.7 kB]\n",
            "Get:3 https://cloud.r-project.org/bin/linux/ubuntu bionic-cran40/ InRelease [3,626 B]\n",
            "Get:4 http://archive.ubuntu.com/ubuntu bionic-backports InRelease [83.3 kB]\n",
            "Get:5 http://security.ubuntu.com/ubuntu bionic-security InRelease [88.7 kB]\n",
            "Get:6 http://ppa.launchpad.net/c2d4u.team/c2d4u4.0+/ubuntu bionic InRelease [15.9 kB]\n",
            "Ign:7 https://developer.download.nvidia.com/compute/machine-learning/repos/ubuntu1804/x86_64  InRelease\n",
            "Hit:8 https://developer.download.nvidia.com/compute/cuda/repos/ubuntu1804/x86_64  InRelease\n",
            "Hit:9 https://developer.download.nvidia.com/compute/machine-learning/repos/ubuntu1804/x86_64  Release\n",
            "Hit:10 http://ppa.launchpad.net/cran/libgit2/ubuntu bionic InRelease\n",
            "Hit:11 http://ppa.launchpad.net/deadsnakes/ppa/ubuntu bionic InRelease\n",
            "Hit:12 http://ppa.launchpad.net/graphics-drivers/ppa/ubuntu bionic InRelease\n",
            "Get:14 http://ppa.launchpad.net/c2d4u.team/c2d4u4.0+/ubuntu bionic/main Sources [2,237 kB]\n",
            "Get:15 http://ppa.launchpad.net/c2d4u.team/c2d4u4.0+/ubuntu bionic/main amd64 Packages [1,144 kB]\n",
            "Fetched 3,662 kB in 4s (1,005 kB/s)\n",
            "Reading package lists... Done\n",
            "Reading package lists... Done\n",
            "Building dependency tree       \n",
            "Reading state information... Done\n",
            "The following package was automatically installed and is no longer required:\n",
            "  libnvidia-common-460\n",
            "Use 'apt autoremove' to remove it.\n",
            "The following NEW packages will be installed:\n",
            "  poppler-utils\n",
            "0 upgraded, 1 newly installed, 0 to remove and 20 not upgraded.\n",
            "Need to get 154 kB of archives.\n",
            "After this operation, 613 kB of additional disk space will be used.\n",
            "Get:1 http://archive.ubuntu.com/ubuntu bionic-updates/main amd64 poppler-utils amd64 0.62.0-2ubuntu2.14 [154 kB]\n",
            "Fetched 154 kB in 0s (2,010 kB/s)\n",
            "Selecting previously unselected package poppler-utils.\n",
            "(Reading database ... 124016 files and directories currently installed.)\n",
            "Preparing to unpack .../poppler-utils_0.62.0-2ubuntu2.14_amd64.deb ...\n",
            "Unpacking poppler-utils (0.62.0-2ubuntu2.14) ...\n",
            "Setting up poppler-utils (0.62.0-2ubuntu2.14) ...\n",
            "Processing triggers for man-db (2.8.3-2ubuntu0.1) ...\n"
          ]
        }
      ]
    },
    {
      "cell_type": "markdown",
      "source": [
        "## Conversion"
      ],
      "metadata": {
        "id": "pLaguCz1WmF9"
      }
    },
    {
      "cell_type": "code",
      "source": [
        "from pdf2image import convert_from_path"
      ],
      "metadata": {
        "id": "HI1dzCGmkeWI"
      },
      "execution_count": 4,
      "outputs": []
    },
    {
      "cell_type": "code",
      "source": [
        "images = convert_from_path('/content/KCI_FI002718081.pdf')"
      ],
      "metadata": {
        "id": "xyhjFgqjkgG7"
      },
      "execution_count": 5,
      "outputs": []
    },
    {
      "cell_type": "code",
      "source": [
        "!mkdir Test"
      ],
      "metadata": {
        "id": "M5hBWxpskgJW"
      },
      "execution_count": 7,
      "outputs": []
    },
    {
      "cell_type": "code",
      "source": [
        "for i in range(len(images)):\n",
        "  images[i].save('Test/page'+str(i)+'.jpg', 'JPEG')"
      ],
      "metadata": {
        "id": "7mlH9ltkkgMB"
      },
      "execution_count": 8,
      "outputs": []
    },
    {
      "cell_type": "markdown",
      "source": [
        "# Layout"
      ],
      "metadata": {
        "id": "Urwb7Q_OZC8t"
      }
    },
    {
      "cell_type": "markdown",
      "source": [
        "## Installation"
      ],
      "metadata": {
        "id": "vTkwQbF4FZPN"
      }
    },
    {
      "cell_type": "code",
      "source": [
        "#!python3 -m pip install paddlepaddle-gpu\n",
        "!pip install \"paddleocr>=2.0.1\"\n",
        "!pip install protobuf==3.20.0\n",
        "!git clone https://github.com/PaddlePaddle/PaddleOCR.git"
      ],
      "metadata": {
        "colab": {
          "base_uri": "https://localhost:8080/",
          "height": 1000
        },
        "id": "R0lRpQLkIpbZ",
        "outputId": "74aa1faa-f09b-47d3-abe2-9b963d58fd46"
      },
      "execution_count": 9,
      "outputs": [
        {
          "output_type": "stream",
          "name": "stdout",
          "text": [
            "Looking in indexes: https://pypi.org/simple, https://us-python.pkg.dev/colab-wheels/public/simple/\n",
            "Collecting paddleocr>=2.0.1\n",
            "  Downloading paddleocr-2.6.1.2-py3-none-any.whl (440 kB)\n",
            "\u001b[K     |████████████████████████████████| 440 kB 26.3 MB/s \n",
            "\u001b[?25hRequirement already satisfied: beautifulsoup4 in /usr/local/lib/python3.8/dist-packages (from paddleocr>=2.0.1) (4.6.3)\n",
            "Collecting pyclipper\n",
            "  Downloading pyclipper-1.3.0.post4-cp38-cp38-manylinux_2_5_x86_64.manylinux1_x86_64.whl (619 kB)\n",
            "\u001b[K     |████████████████████████████████| 619 kB 66.5 MB/s \n",
            "\u001b[?25hRequirement already satisfied: shapely in /usr/local/lib/python3.8/dist-packages (from paddleocr>=2.0.1) (2.0.0)\n",
            "Collecting rapidfuzz\n",
            "  Downloading rapidfuzz-2.13.7-cp38-cp38-manylinux_2_17_x86_64.manylinux2014_x86_64.whl (2.2 MB)\n",
            "\u001b[K     |████████████████████████████████| 2.2 MB 66.1 MB/s \n",
            "\u001b[?25hRequirement already satisfied: opencv-python in /usr/local/lib/python3.8/dist-packages (from paddleocr>=2.0.1) (4.6.0.66)\n",
            "Collecting attrdict\n",
            "  Downloading attrdict-2.0.1-py2.py3-none-any.whl (9.9 kB)\n",
            "Collecting pdf2docx\n",
            "  Downloading pdf2docx-0.5.6-py3-none-any.whl (148 kB)\n",
            "\u001b[K     |████████████████████████████████| 148 kB 79.9 MB/s \n",
            "\u001b[?25hCollecting fonttools>=4.24.0\n",
            "  Downloading fonttools-4.38.0-py3-none-any.whl (965 kB)\n",
            "\u001b[K     |████████████████████████████████| 965 kB 73.6 MB/s \n",
            "\u001b[?25hRequirement already satisfied: imgaug in /usr/local/lib/python3.8/dist-packages (from paddleocr>=2.0.1) (0.4.0)\n",
            "Requirement already satisfied: scikit-image in /usr/local/lib/python3.8/dist-packages (from paddleocr>=2.0.1) (0.18.3)\n",
            "Collecting PyMuPDF<1.21.0\n",
            "  Downloading PyMuPDF-1.20.2-cp38-cp38-manylinux_2_17_x86_64.manylinux2014_x86_64.whl (8.8 MB)\n",
            "\u001b[K     |████████████████████████████████| 8.8 MB 65.4 MB/s \n",
            "\u001b[?25hRequirement already satisfied: tqdm in /usr/local/lib/python3.8/dist-packages (from paddleocr>=2.0.1) (4.64.1)\n",
            "Requirement already satisfied: numpy in /usr/local/lib/python3.8/dist-packages (from paddleocr>=2.0.1) (1.21.6)\n",
            "Requirement already satisfied: cython in /usr/local/lib/python3.8/dist-packages (from paddleocr>=2.0.1) (0.29.32)\n",
            "Requirement already satisfied: opencv-contrib-python in /usr/local/lib/python3.8/dist-packages (from paddleocr>=2.0.1) (4.6.0.66)\n",
            "Requirement already satisfied: lmdb in /usr/local/lib/python3.8/dist-packages (from paddleocr>=2.0.1) (0.99)\n",
            "Collecting python-docx\n",
            "  Downloading python-docx-0.8.11.tar.gz (5.6 MB)\n",
            "\u001b[K     |████████████████████████████████| 5.6 MB 70.6 MB/s \n",
            "\u001b[?25hCollecting fire>=0.3.0\n",
            "  Downloading fire-0.5.0.tar.gz (88 kB)\n",
            "\u001b[K     |████████████████████████████████| 88 kB 9.9 MB/s \n",
            "\u001b[?25hCollecting premailer\n",
            "  Downloading premailer-3.10.0-py2.py3-none-any.whl (19 kB)\n",
            "Collecting visualdl\n",
            "  Downloading visualdl-2.4.2-py3-none-any.whl (4.9 MB)\n",
            "\u001b[K     |████████████████████████████████| 4.9 MB 59.4 MB/s \n",
            "\u001b[?25hRequirement already satisfied: lxml in /usr/local/lib/python3.8/dist-packages (from paddleocr>=2.0.1) (4.9.2)\n",
            "Requirement already satisfied: openpyxl in /usr/local/lib/python3.8/dist-packages (from paddleocr>=2.0.1) (3.0.10)\n",
            "Requirement already satisfied: six in /usr/local/lib/python3.8/dist-packages (from fire>=0.3.0->paddleocr>=2.0.1) (1.15.0)\n",
            "Requirement already satisfied: termcolor in /usr/local/lib/python3.8/dist-packages (from fire>=0.3.0->paddleocr>=2.0.1) (2.1.1)\n",
            "Requirement already satisfied: scipy in /usr/local/lib/python3.8/dist-packages (from imgaug->paddleocr>=2.0.1) (1.7.3)\n",
            "Requirement already satisfied: matplotlib in /usr/local/lib/python3.8/dist-packages (from imgaug->paddleocr>=2.0.1) (3.2.2)\n",
            "Requirement already satisfied: Pillow in /usr/local/lib/python3.8/dist-packages (from imgaug->paddleocr>=2.0.1) (7.1.2)\n",
            "Requirement already satisfied: imageio in /usr/local/lib/python3.8/dist-packages (from imgaug->paddleocr>=2.0.1) (2.9.0)\n",
            "Requirement already satisfied: PyWavelets>=1.1.1 in /usr/local/lib/python3.8/dist-packages (from scikit-image->paddleocr>=2.0.1) (1.4.1)\n",
            "Requirement already satisfied: networkx>=2.0 in /usr/local/lib/python3.8/dist-packages (from scikit-image->paddleocr>=2.0.1) (2.8.8)\n",
            "Requirement already satisfied: tifffile>=2019.7.26 in /usr/local/lib/python3.8/dist-packages (from scikit-image->paddleocr>=2.0.1) (2022.10.10)\n",
            "Requirement already satisfied: cycler>=0.10 in /usr/local/lib/python3.8/dist-packages (from matplotlib->imgaug->paddleocr>=2.0.1) (0.11.0)\n",
            "Requirement already satisfied: pyparsing!=2.0.4,!=2.1.2,!=2.1.6,>=2.0.1 in /usr/local/lib/python3.8/dist-packages (from matplotlib->imgaug->paddleocr>=2.0.1) (3.0.9)\n",
            "Requirement already satisfied: python-dateutil>=2.1 in /usr/local/lib/python3.8/dist-packages (from matplotlib->imgaug->paddleocr>=2.0.1) (2.8.2)\n",
            "Requirement already satisfied: kiwisolver>=1.0.1 in /usr/local/lib/python3.8/dist-packages (from matplotlib->imgaug->paddleocr>=2.0.1) (1.4.4)\n",
            "Requirement already satisfied: et-xmlfile in /usr/local/lib/python3.8/dist-packages (from openpyxl->paddleocr>=2.0.1) (1.1.0)\n",
            "Requirement already satisfied: cachetools in /usr/local/lib/python3.8/dist-packages (from premailer->paddleocr>=2.0.1) (5.2.0)\n",
            "Collecting cssselect\n",
            "  Downloading cssselect-1.2.0-py2.py3-none-any.whl (18 kB)\n",
            "Requirement already satisfied: requests in /usr/local/lib/python3.8/dist-packages (from premailer->paddleocr>=2.0.1) (2.23.0)\n",
            "Collecting cssutils\n",
            "  Downloading cssutils-2.6.0-py3-none-any.whl (399 kB)\n",
            "\u001b[K     |████████████████████████████████| 399 kB 76.3 MB/s \n",
            "\u001b[?25hRequirement already satisfied: chardet<4,>=3.0.2 in /usr/local/lib/python3.8/dist-packages (from requests->premailer->paddleocr>=2.0.1) (3.0.4)\n",
            "Requirement already satisfied: urllib3!=1.25.0,!=1.25.1,<1.26,>=1.21.1 in /usr/local/lib/python3.8/dist-packages (from requests->premailer->paddleocr>=2.0.1) (1.24.3)\n",
            "Requirement already satisfied: certifi>=2017.4.17 in /usr/local/lib/python3.8/dist-packages (from requests->premailer->paddleocr>=2.0.1) (2022.12.7)\n",
            "Requirement already satisfied: idna<3,>=2.5 in /usr/local/lib/python3.8/dist-packages (from requests->premailer->paddleocr>=2.0.1) (2.10)\n",
            "Requirement already satisfied: pandas in /usr/local/lib/python3.8/dist-packages (from visualdl->paddleocr>=2.0.1) (1.3.5)\n",
            "Collecting bce-python-sdk\n",
            "  Downloading bce_python_sdk-0.8.74-py3-none-any.whl (204 kB)\n",
            "\u001b[K     |████████████████████████████████| 204 kB 76.1 MB/s \n",
            "\u001b[?25hRequirement already satisfied: protobuf>=3.11.0 in /usr/local/lib/python3.8/dist-packages (from visualdl->paddleocr>=2.0.1) (3.19.6)\n",
            "Requirement already satisfied: packaging in /usr/local/lib/python3.8/dist-packages (from visualdl->paddleocr>=2.0.1) (21.3)\n",
            "Requirement already satisfied: flask>=1.1.1 in /usr/local/lib/python3.8/dist-packages (from visualdl->paddleocr>=2.0.1) (1.1.4)\n",
            "Collecting multiprocess\n",
            "  Downloading multiprocess-0.70.14-py38-none-any.whl (132 kB)\n",
            "\u001b[K     |████████████████████████████████| 132 kB 80.6 MB/s \n",
            "\u001b[?25hCollecting Flask-Babel>=1.0.0\n",
            "  Downloading Flask_Babel-2.0.0-py3-none-any.whl (9.3 kB)\n",
            "Requirement already satisfied: click<8.0,>=5.1 in /usr/local/lib/python3.8/dist-packages (from flask>=1.1.1->visualdl->paddleocr>=2.0.1) (7.1.2)\n",
            "Requirement already satisfied: Werkzeug<2.0,>=0.15 in /usr/local/lib/python3.8/dist-packages (from flask>=1.1.1->visualdl->paddleocr>=2.0.1) (1.0.1)\n",
            "Requirement already satisfied: Jinja2<3.0,>=2.10.1 in /usr/local/lib/python3.8/dist-packages (from flask>=1.1.1->visualdl->paddleocr>=2.0.1) (2.11.3)\n",
            "Requirement already satisfied: itsdangerous<2.0,>=0.24 in /usr/local/lib/python3.8/dist-packages (from flask>=1.1.1->visualdl->paddleocr>=2.0.1) (1.1.0)\n",
            "Requirement already satisfied: pytz in /usr/local/lib/python3.8/dist-packages (from Flask-Babel>=1.0.0->visualdl->paddleocr>=2.0.1) (2022.6)\n",
            "Requirement already satisfied: Babel>=2.3 in /usr/local/lib/python3.8/dist-packages (from Flask-Babel>=1.0.0->visualdl->paddleocr>=2.0.1) (2.11.0)\n",
            "Requirement already satisfied: MarkupSafe>=0.23 in /usr/local/lib/python3.8/dist-packages (from Jinja2<3.0,>=2.10.1->flask>=1.1.1->visualdl->paddleocr>=2.0.1) (2.0.1)\n",
            "Collecting pycryptodome>=3.8.0\n",
            "  Downloading pycryptodome-3.16.0-cp35-abi3-manylinux_2_5_x86_64.manylinux1_x86_64.manylinux_2_12_x86_64.manylinux2010_x86_64.whl (2.3 MB)\n",
            "\u001b[K     |████████████████████████████████| 2.3 MB 64.4 MB/s \n",
            "\u001b[?25hRequirement already satisfied: future>=0.6.0 in /usr/local/lib/python3.8/dist-packages (from bce-python-sdk->visualdl->paddleocr>=2.0.1) (0.16.0)\n",
            "Requirement already satisfied: dill>=0.3.6 in /usr/local/lib/python3.8/dist-packages (from multiprocess->visualdl->paddleocr>=2.0.1) (0.3.6)\n",
            "Building wheels for collected packages: fire, python-docx\n",
            "  Building wheel for fire (setup.py) ... \u001b[?25l\u001b[?25hdone\n",
            "  Created wheel for fire: filename=fire-0.5.0-py2.py3-none-any.whl size=116949 sha256=45c2f375a624d7abf98c09cba030588fbe6f11253aac0da69754cdaa1f46c061\n",
            "  Stored in directory: /root/.cache/pip/wheels/5b/eb/43/7295e71293b218ddfd627f935229bf54af9018add7fbb5aac6\n",
            "  Building wheel for python-docx (setup.py) ... \u001b[?25l\u001b[?25hdone\n",
            "  Created wheel for python-docx: filename=python_docx-0.8.11-py3-none-any.whl size=184505 sha256=a0033a5b56c434e9a654c95d5f0a5cba6bb3535536ef49ad69a24f9722c45166\n",
            "  Stored in directory: /root/.cache/pip/wheels/32/b8/b2/c4c2b95765e615fe139b0b17b5ea7c0e1b6519b0a9ec8fb34d\n",
            "Successfully built fire python-docx\n",
            "Installing collected packages: pycryptodome, python-docx, PyMuPDF, multiprocess, fonttools, Flask-Babel, fire, cssutils, cssselect, bce-python-sdk, visualdl, rapidfuzz, pyclipper, premailer, pdf2docx, attrdict, paddleocr\n",
            "Successfully installed Flask-Babel-2.0.0 PyMuPDF-1.20.2 attrdict-2.0.1 bce-python-sdk-0.8.74 cssselect-1.2.0 cssutils-2.6.0 fire-0.5.0 fonttools-4.38.0 multiprocess-0.70.14 paddleocr-2.6.1.2 pdf2docx-0.5.6 premailer-3.10.0 pyclipper-1.3.0.post4 pycryptodome-3.16.0 python-docx-0.8.11 rapidfuzz-2.13.7 visualdl-2.4.2\n",
            "Looking in indexes: https://pypi.org/simple, https://us-python.pkg.dev/colab-wheels/public/simple/\n",
            "Collecting protobuf==3.20.0\n",
            "  Downloading protobuf-3.20.0-cp38-cp38-manylinux_2_5_x86_64.manylinux1_x86_64.whl (1.0 MB)\n",
            "\u001b[K     |████████████████████████████████| 1.0 MB 28.5 MB/s \n",
            "\u001b[?25hInstalling collected packages: protobuf\n",
            "  Attempting uninstall: protobuf\n",
            "    Found existing installation: protobuf 3.19.6\n",
            "    Uninstalling protobuf-3.19.6:\n",
            "      Successfully uninstalled protobuf-3.19.6\n",
            "\u001b[31mERROR: pip's dependency resolver does not currently take into account all the packages that are installed. This behaviour is the source of the following dependency conflicts.\n",
            "tensorflow 2.9.2 requires protobuf<3.20,>=3.9.2, but you have protobuf 3.20.0 which is incompatible.\n",
            "tensorboard 2.9.1 requires protobuf<3.20,>=3.9.2, but you have protobuf 3.20.0 which is incompatible.\n",
            "googleapis-common-protos 1.57.0 requires protobuf!=3.20.0,!=3.20.1,!=4.21.1,!=4.21.2,!=4.21.3,!=4.21.4,!=4.21.5,<5.0.0dev,>=3.19.5, but you have protobuf 3.20.0 which is incompatible.\n",
            "google-cloud-translate 3.8.4 requires protobuf!=3.20.0,!=3.20.1,!=4.21.0,!=4.21.1,!=4.21.2,!=4.21.3,!=4.21.4,!=4.21.5,<5.0.0dev,>=3.19.5, but you have protobuf 3.20.0 which is incompatible.\n",
            "google-cloud-language 2.6.1 requires protobuf!=3.20.0,!=3.20.1,!=4.21.0,!=4.21.1,!=4.21.2,!=4.21.3,!=4.21.4,!=4.21.5,<5.0.0dev,>=3.19.5, but you have protobuf 3.20.0 which is incompatible.\n",
            "google-cloud-firestore 2.7.2 requires protobuf!=3.20.0,!=3.20.1,!=4.21.0,!=4.21.1,!=4.21.2,!=4.21.3,!=4.21.4,!=4.21.5,<5.0.0dev,>=3.19.5, but you have protobuf 3.20.0 which is incompatible.\n",
            "google-cloud-datastore 2.9.0 requires protobuf!=3.20.0,!=3.20.1,!=4.21.0,!=4.21.1,!=4.21.2,!=4.21.3,!=4.21.4,!=4.21.5,<5.0.0dev,>=3.19.5, but you have protobuf 3.20.0 which is incompatible.\n",
            "google-cloud-bigquery 3.3.6 requires protobuf!=3.20.0,!=3.20.1,!=4.21.0,!=4.21.1,!=4.21.2,!=4.21.3,!=4.21.4,!=4.21.5,<5.0.0dev,>=3.19.5, but you have protobuf 3.20.0 which is incompatible.\n",
            "google-cloud-bigquery-storage 2.16.2 requires protobuf!=3.20.0,!=3.20.1,!=4.21.0,!=4.21.1,!=4.21.2,!=4.21.3,!=4.21.4,!=4.21.5,<5.0.0dev,>=3.19.5, but you have protobuf 3.20.0 which is incompatible.\u001b[0m\n",
            "Successfully installed protobuf-3.20.0\n"
          ]
        },
        {
          "output_type": "display_data",
          "data": {
            "application/vnd.colab-display-data+json": {
              "pip_warning": {
                "packages": [
                  "google"
                ]
              }
            }
          },
          "metadata": {}
        },
        {
          "output_type": "stream",
          "name": "stdout",
          "text": [
            "Cloning into 'PaddleOCR'...\n",
            "remote: Enumerating objects: 45219, done.\u001b[K\n",
            "remote: Counting objects: 100% (26/26), done.\u001b[K\n",
            "remote: Compressing objects: 100% (21/21), done.\u001b[K\n",
            "remote: Total 45219 (delta 9), reused 20 (delta 5), pack-reused 45193\u001b[K\n",
            "Receiving objects: 100% (45219/45219), 338.36 MiB | 38.04 MiB/s, done.\n",
            "Resolving deltas: 100% (31923/31923), done.\n"
          ]
        }
      ]
    },
    {
      "cell_type": "code",
      "source": [
        "!wget https://paddleocr.bj.bcebos.com/whl/layoutparser-0.0.0-py3-none-any.whl\n",
        "!pip install -U layoutparser-0.0.0-py3-none-any.whl"
      ],
      "metadata": {
        "colab": {
          "base_uri": "https://localhost:8080/"
        },
        "id": "8gWFgGl5CXu6",
        "outputId": "b87a4e8d-48a6-423e-bc92-df49cf1a5a76"
      },
      "execution_count": 11,
      "outputs": [
        {
          "output_type": "stream",
          "name": "stdout",
          "text": [
            "--2023-01-02 03:33:56--  https://paddleocr.bj.bcebos.com/whl/layoutparser-0.0.0-py3-none-any.whl\n",
            "Resolving paddleocr.bj.bcebos.com (paddleocr.bj.bcebos.com)... 103.235.46.61, 2409:8c04:1001:1002:0:ff:b001:368a\n",
            "Connecting to paddleocr.bj.bcebos.com (paddleocr.bj.bcebos.com)|103.235.46.61|:443... connected.\n",
            "HTTP request sent, awaiting response... 200 OK\n",
            "Length: 19145360 (18M) [application/octet-stream]\n",
            "Saving to: ‘layoutparser-0.0.0-py3-none-any.whl’\n",
            "\n",
            "layoutparser-0.0.0- 100%[===================>]  18.26M  2.84MB/s    in 13s     \n",
            "\n",
            "2023-01-02 03:34:10 (1.44 MB/s) - ‘layoutparser-0.0.0-py3-none-any.whl’ saved [19145360/19145360]\n",
            "\n",
            "Looking in indexes: https://pypi.org/simple, https://us-python.pkg.dev/colab-wheels/public/simple/\n",
            "Processing ./layoutparser-0.0.0-py3-none-any.whl\n",
            "Requirement already satisfied: opencv-python in /usr/local/lib/python3.8/dist-packages (from layoutparser==0.0.0) (4.6.0.66)\n",
            "Requirement already satisfied: pandas in /usr/local/lib/python3.8/dist-packages (from layoutparser==0.0.0) (1.3.5)\n",
            "Requirement already satisfied: pyyaml>=5.1 in /usr/local/lib/python3.8/dist-packages (from layoutparser==0.0.0) (6.0)\n",
            "Requirement already satisfied: pillow in /usr/local/lib/python3.8/dist-packages (from layoutparser==0.0.0) (7.1.2)\n",
            "Requirement already satisfied: tqdm in /usr/local/lib/python3.8/dist-packages (from layoutparser==0.0.0) (4.64.1)\n",
            "Collecting iopath\n",
            "  Downloading iopath-0.1.10.tar.gz (42 kB)\n",
            "\u001b[K     |████████████████████████████████| 42 kB 1.2 MB/s \n",
            "\u001b[?25hRequirement already satisfied: numpy in /usr/local/lib/python3.8/dist-packages (from layoutparser==0.0.0) (1.21.6)\n",
            "Requirement already satisfied: typing_extensions in /usr/local/lib/python3.8/dist-packages (from iopath->layoutparser==0.0.0) (4.4.0)\n",
            "Collecting portalocker\n",
            "  Downloading portalocker-2.6.0-py2.py3-none-any.whl (15 kB)\n",
            "Requirement already satisfied: python-dateutil>=2.7.3 in /usr/local/lib/python3.8/dist-packages (from pandas->layoutparser==0.0.0) (2.8.2)\n",
            "Requirement already satisfied: pytz>=2017.3 in /usr/local/lib/python3.8/dist-packages (from pandas->layoutparser==0.0.0) (2022.6)\n",
            "Requirement already satisfied: six>=1.5 in /usr/local/lib/python3.8/dist-packages (from python-dateutil>=2.7.3->pandas->layoutparser==0.0.0) (1.15.0)\n",
            "Building wheels for collected packages: iopath\n",
            "  Building wheel for iopath (setup.py) ... \u001b[?25l\u001b[?25hdone\n",
            "  Created wheel for iopath: filename=iopath-0.1.10-py3-none-any.whl size=31547 sha256=58007a82e0a9cb79be659da9279cdfcbb8e92fba780b85e6a41802b6471ccce5\n",
            "  Stored in directory: /root/.cache/pip/wheels/89/3e/24/0f349c0b2eeb6965903035f3b00dbb5c9bea437b4a2f18d82c\n",
            "Successfully built iopath\n",
            "Installing collected packages: portalocker, iopath, layoutparser\n",
            "Successfully installed iopath-0.1.10 layoutparser-0.0.0 portalocker-2.6.0\n"
          ]
        }
      ]
    },
    {
      "cell_type": "markdown",
      "source": [
        "## Table Extraction"
      ],
      "metadata": {
        "id": "w5MA08E0F8aU"
      }
    },
    {
      "cell_type": "code",
      "source": [
        "import cv2\n",
        "import layoutparser as lp\n",
        "image = cv2.imread(\"/content/Test/page3.jpg\")\n",
        "\n",
        "image = image[..., ::-1]\n",
        "\n",
        "# load model\n",
        "model = lp.PaddleDetectionLayoutModel(config_path=\"lp://PubLayNet/ppyolov2_r50vd_dcn_365e_publaynet/config\",\n",
        "                                threshold=0.5,\n",
        "                                label_map={0: \"Text\", 1: \"Title\", 2: \"List\", 3:\"Table\", 4:\"Figure\"},\n",
        "                                enforce_cpu=False,\n",
        "                                enable_mkldnn=True)#math kernel library\n",
        "# detect\n",
        "layout = model.detect(image)"
      ],
      "metadata": {
        "id": "bw9SFYnMCX0E",
        "colab": {
          "base_uri": "https://localhost:8080/"
        },
        "outputId": "c02315bd-b0ca-4c6c-cc8b-cbb63f3a3e14"
      },
      "execution_count": 13,
      "outputs": [
        {
          "output_type": "stream",
          "name": "stdout",
          "text": [
            "download https://paddle-model-ecology.bj.bcebos.com/model/layout-parser/ppyolov2_r50vd_dcn_365e_publaynet.tar to /root/.paddledet/inference_model/ppyolov2_r50vd_dcn_365e_publaynet/ppyolov2_r50vd_dcn_365e_publaynet_infer/ppyolov2_r50vd_dcn_365e_publaynet.tar\n"
          ]
        },
        {
          "output_type": "stream",
          "name": "stderr",
          "text": [
            "100%|██████████| 221M/221M [00:50<00:00, 4.40MiB/s]\n"
          ]
        }
      ]
    },
    {
      "cell_type": "code",
      "source": [
        "layout"
      ],
      "metadata": {
        "id": "G76oO2WXCX6v",
        "colab": {
          "base_uri": "https://localhost:8080/"
        },
        "outputId": "a73a5ce2-9a39-4851-fdbb-5ac0f22deb90"
      },
      "execution_count": 14,
      "outputs": [
        {
          "output_type": "execute_result",
          "data": {
            "text/plain": [
              "Layout(_blocks=[TextBlock(block=Rectangle(x_1=176.20626831054688, y_1=1416.7845458984375, x_2=819.1768798828125, y_2=1612.2164306640625), text=None, id=None, type=Text, parent=None, next=None, score=0.9217672348022461), TextBlock(block=Rectangle(x_1=179.60015869140625, y_1=344.3227844238281, x_2=1516.93603515625, y_2=1366.334228515625), text=None, id=None, type=Table, parent=None, next=None, score=0.89203280210495), TextBlock(block=Rectangle(x_1=585.2098388671875, y_1=296.04779052734375, x_2=1112.5994873046875, y_2=329.0098876953125), text=None, id=None, type=Text, parent=None, next=None, score=0.8665469288825989), TextBlock(block=Rectangle(x_1=881.435791015625, y_1=1905.89501953125, x_2=1520.437744140625, y_2=2148.66552734375), text=None, id=None, type=Text, parent=None, next=None, score=0.8359573483467102), TextBlock(block=Rectangle(x_1=880.2554931640625, y_1=1415.83447265625, x_2=1521.3900146484375, y_2=1725.28515625), text=None, id=None, type=Text, parent=None, next=None, score=0.8152264952659607), TextBlock(block=Rectangle(x_1=175.6298828125, y_1=1996.3475341796875, x_2=819.0338134765625, y_2=2154.6708984375), text=None, id=None, type=Text, parent=None, next=None, score=0.7759407162666321)], page_data={})"
            ]
          },
          "metadata": {},
          "execution_count": 14
        }
      ]
    },
    {
      "cell_type": "code",
      "source": [
        "x_1=0\n",
        "y_1=0\n",
        "x_2=0\n",
        "y_2=0\n",
        "\n",
        "for l in layout:\n",
        "  #print(l)\n",
        "  if l.type == 'Table':\n",
        "    x_1 = int(l.block.x_1)\n",
        "    print(l.block.x_1)\n",
        "    y_1 = int(l.block.y_1)\n",
        "    x_2 = int(l.block.x_2)\n",
        "    y_2 = int(l.block.y_2)\n",
        "    \n",
        "    break"
      ],
      "metadata": {
        "id": "y3h0kCz-CX_U",
        "colab": {
          "base_uri": "https://localhost:8080/"
        },
        "outputId": "2b113f3d-745f-42c1-9ddb-e301a1e3603a"
      },
      "execution_count": 15,
      "outputs": [
        {
          "output_type": "stream",
          "name": "stdout",
          "text": [
            "179.60016\n"
          ]
        }
      ]
    },
    {
      "cell_type": "code",
      "source": [
        "print(x_1,y_1,x_2,y_2)"
      ],
      "metadata": {
        "id": "cdiYPeCJCYIg",
        "colab": {
          "base_uri": "https://localhost:8080/"
        },
        "outputId": "6ddce3f6-ce04-4277-e895-eb2059181524"
      },
      "execution_count": 16,
      "outputs": [
        {
          "output_type": "stream",
          "name": "stdout",
          "text": [
            "179 344 1516 1366\n"
          ]
        }
      ]
    },
    {
      "cell_type": "code",
      "source": [
        "im = cv2.imread('/content/Test/page3.jpg')"
      ],
      "metadata": {
        "id": "F39kJV3hCYLV"
      },
      "execution_count": 17,
      "outputs": []
    },
    {
      "cell_type": "code",
      "source": [
        "cv2.imwrite('ext_im.jpg', im[y_1:y_2,x_1:x_2])"
      ],
      "metadata": {
        "id": "EQDXSNijCYPs",
        "colab": {
          "base_uri": "https://localhost:8080/"
        },
        "outputId": "f8d41694-aaa6-4b40-cb53-bd6013a75560"
      },
      "execution_count": 18,
      "outputs": [
        {
          "output_type": "execute_result",
          "data": {
            "text/plain": [
              "True"
            ]
          },
          "metadata": {},
          "execution_count": 18
        }
      ]
    },
    {
      "cell_type": "markdown",
      "metadata": {
        "id": "EGwGhHnd8i_h"
      },
      "source": [
        "# Text Detection and Recognition"
      ]
    },
    {
      "cell_type": "code",
      "source": [
        "from paddleocr import PaddleOCR, draw_ocr"
      ],
      "metadata": {
        "id": "N6WQZXhLLDWk"
      },
      "execution_count": 19,
      "outputs": []
    },
    {
      "cell_type": "code",
      "source": [
        "ocr = PaddleOCR(lang='en')\n",
        "image_path = '/content/ext_im.jpg'\n",
        "image_cv = cv2.imread(image_path)\n",
        "image_height = image_cv.shape[0]\n",
        "image_width = image_cv.shape[1]\n",
        "output = ocr.ocr(image_path)[0]"
      ],
      "metadata": {
        "colab": {
          "base_uri": "https://localhost:8080/"
        },
        "id": "A8bCZ9AULDZF",
        "outputId": "fb29e68e-d4d9-4335-912e-1d883b081aae"
      },
      "execution_count": 20,
      "outputs": [
        {
          "output_type": "stream",
          "name": "stdout",
          "text": [
            "download https://paddleocr.bj.bcebos.com/PP-OCRv3/english/en_PP-OCRv3_det_infer.tar to /root/.paddleocr/whl/det/en/en_PP-OCRv3_det_infer/en_PP-OCRv3_det_infer.tar\n"
          ]
        },
        {
          "output_type": "stream",
          "name": "stderr",
          "text": [
            "100%|██████████| 4.00M/4.00M [00:08<00:00, 489kiB/s] \n"
          ]
        },
        {
          "output_type": "stream",
          "name": "stdout",
          "text": [
            "download https://paddleocr.bj.bcebos.com/PP-OCRv3/english/en_PP-OCRv3_rec_infer.tar to /root/.paddleocr/whl/rec/en/en_PP-OCRv3_rec_infer/en_PP-OCRv3_rec_infer.tar\n"
          ]
        },
        {
          "output_type": "stream",
          "name": "stderr",
          "text": [
            "100%|██████████| 9.96M/9.96M [00:11<00:00, 890kiB/s] \n"
          ]
        },
        {
          "output_type": "stream",
          "name": "stdout",
          "text": [
            "download https://paddleocr.bj.bcebos.com/dygraph_v2.0/ch/ch_ppocr_mobile_v2.0_cls_infer.tar to /root/.paddleocr/whl/cls/ch_ppocr_mobile_v2.0_cls_infer/ch_ppocr_mobile_v2.0_cls_infer.tar\n"
          ]
        },
        {
          "output_type": "stream",
          "name": "stderr",
          "text": [
            "100%|██████████| 2.19M/2.19M [00:07<00:00, 302kiB/s]"
          ]
        },
        {
          "output_type": "stream",
          "name": "stdout",
          "text": [
            "[2023/01/02 03:37:08] ppocr DEBUG: Namespace(alpha=1.0, benchmark=False, beta=1.0, cls_batch_num=6, cls_image_shape='3, 48, 192', cls_model_dir='/root/.paddleocr/whl/cls/ch_ppocr_mobile_v2.0_cls_infer', cls_thresh=0.9, cpu_threads=10, crop_res_save_dir='./output', det=True, det_algorithm='DB', det_box_type='quad', det_db_box_thresh=0.6, det_db_score_mode='fast', det_db_thresh=0.3, det_db_unclip_ratio=1.5, det_east_cover_thresh=0.1, det_east_nms_thresh=0.2, det_east_score_thresh=0.8, det_limit_side_len=960, det_limit_type='max', det_model_dir='/root/.paddleocr/whl/det/en/en_PP-OCRv3_det_infer', det_pse_box_thresh=0.85, det_pse_min_area=16, det_pse_scale=1, det_pse_thresh=0, det_sast_nms_thresh=0.2, det_sast_score_thresh=0.5, draw_img_save_dir='./inference_results', drop_score=0.5, e2e_algorithm='PGNet', e2e_char_dict_path='./ppocr/utils/ic15_dict.txt', e2e_limit_side_len=768, e2e_limit_type='max', e2e_model_dir=None, e2e_pgnet_mode='fast', e2e_pgnet_score_thresh=0.5, e2e_pgnet_valid_set='totaltext', enable_mkldnn=False, fourier_degree=5, gpu_mem=500, help='==SUPPRESS==', image_dir=None, image_orientation=False, ir_optim=True, kie_algorithm='LayoutXLM', label_list=['0', '180'], lang='en', layout=True, layout_dict_path=None, layout_model_dir=None, layout_nms_threshold=0.5, layout_score_threshold=0.5, max_batch_size=10, max_text_length=25, merge_no_span_structure=True, min_subgraph_size=15, mode='structure', ocr=True, ocr_order_method=None, ocr_version='PP-OCRv3', output='./output', page_num=0, precision='fp32', process_id=0, re_model_dir=None, rec=True, rec_algorithm='SVTR_LCNet', rec_batch_num=6, rec_char_dict_path='/usr/local/lib/python3.8/dist-packages/paddleocr/ppocr/utils/en_dict.txt', rec_image_inverse=True, rec_image_shape='3, 48, 320', rec_model_dir='/root/.paddleocr/whl/rec/en/en_PP-OCRv3_rec_infer', recovery=False, save_crop_res=False, save_log_path='./log_output/', scales=[8, 16, 32], ser_dict_path='../train_data/XFUND/class_list_xfun.txt', ser_model_dir=None, show_log=True, sr_batch_num=1, sr_image_shape='3, 32, 128', sr_model_dir=None, structure_version='PP-StructureV2', table=True, table_algorithm='TableAttn', table_char_dict_path=None, table_max_len=488, table_model_dir=None, total_process_num=1, type='ocr', use_angle_cls=False, use_dilation=False, use_gpu=True, use_mp=False, use_npu=False, use_onnx=False, use_pdf2docx_api=False, use_pdserving=False, use_space_char=True, use_tensorrt=False, use_visual_backbone=True, use_xpu=False, vis_font_path='./doc/fonts/simfang.ttf', warmup=False)\n"
          ]
        },
        {
          "output_type": "stream",
          "name": "stderr",
          "text": [
            "\n"
          ]
        },
        {
          "output_type": "stream",
          "name": "stdout",
          "text": [
            "[2023/01/02 03:37:08] ppocr WARNING: Since the angle classifier is not initialized, the angle classifier will not be uesd during the forward process\n",
            "[2023/01/02 03:37:09] ppocr DEBUG: dt_boxes num : 157, elapse : 0.2008819580078125\n",
            "[2023/01/02 03:37:09] ppocr DEBUG: rec_res num  : 157, elapse : 0.3943941593170166\n"
          ]
        }
      ]
    },
    {
      "cell_type": "code",
      "source": [
        "print(output)"
      ],
      "metadata": {
        "colab": {
          "base_uri": "https://localhost:8080/"
        },
        "id": "VBIDZA0XLDeA",
        "outputId": "b05c5f37-f8a5-4fac-ead7-f1bfb243262d"
      },
      "execution_count": 21,
      "outputs": [
        {
          "output_type": "stream",
          "name": "stdout",
          "text": [
            "[[[[269.0, 11.0], [331.0, 11.0], [331.0, 37.0], [269.0, 37.0]], ('Crack', 0.9974668622016907)], [[[418.0, 12.0], [500.0, 12.0], [500.0, 37.0], [418.0, 37.0]], ('SDNET-', 0.9964353442192078)], [[[578.0, 12.0], [663.0, 12.0], [663.0, 36.0], [578.0, 36.0]], ('SDNET-', 0.995093584060669)], [[[738.0, 12.0], [820.0, 12.0], [820.0, 37.0], [738.0, 37.0]], ('SDNET-', 0.9967150092124939)], [[[908.0, 11.0], [974.0, 11.0], [974.0, 37.0], [908.0, 37.0]], ('Crack', 0.9973966479301453)], [[[1055.0, 9.0], [1144.0, 14.0], [1142.0, 42.0], [1054.0, 37.0]], ('Damage', 0.9972259998321533)], [[[1207.0, 26.0], [1313.0, 26.0], [1313.0, 51.0], [1207.0, 51.0]], ('Combined', 0.9975548982620239)], [[[78.0, 42.0], [143.0, 42.0], [143.0, 67.0], [78.0, 67.0]], ('Model', 0.9983161687850952)], [[[233.0, 43.0], [368.0, 43.0], [368.0, 67.0], [233.0, 67.0]], ('Segmentation', 0.9979457855224609)], [[[432.0, 42.0], [489.0, 42.0], [489.0, 67.0], [432.0, 67.0]], ('Deck', 0.9973151683807373)], [[[570.0, 43.0], [670.0, 43.0], [670.0, 67.0], [570.0, 67.0]], ('Pavement', 0.9975150227546692)], [[[753.0, 42.0], [805.0, 38.0], [807.0, 65.0], [755.0, 69.0]], ('Wall', 0.9968103170394897)], [[[890.0, 43.0], [989.0, 43.0], [989.0, 67.0], [890.0, 67.0]], ('Detection', 0.9967811107635498)], [[[1049.0, 42.0], [1148.0, 42.0], [1148.0, 65.0], [1049.0, 65.0]], ('Detection', 0.9957274198532104)], [[[1202.0, 57.0], [1317.0, 55.0], [1318.0, 80.0], [1202.0, 82.0]], ('Dataset (%)', 0.9246930480003357)], [[[241.0, 72.0], [358.0, 72.0], [358.0, 96.0], [241.0, 96.0]], ('Dataset %', 0.9497959613800049)], [[[401.0, 72.0], [517.0, 72.0], [517.0, 96.0], [401.0, 96.0]], ('Dataset (%)', 0.882918119430542)], [[[561.0, 72.0], [677.0, 72.0], [677.0, 96.0], [561.0, 96.0]], ('Dataset (%)', 0.8949851393699646)], [[[721.0, 71.0], [837.0, 71.0], [837.0, 96.0], [721.0, 96.0]], ('Dataset (%)', 0.8848974704742432)], [[[882.0, 72.0], [996.0, 72.0], [996.0, 96.0], [882.0, 96.0]], ('Dataset %)', 0.9056400060653687)], [[[1042.0, 71.0], [1156.0, 71.0], [1156.0, 96.0], [1042.0, 96.0]], ('Dataset %)', 0.9188424944877625)], [[[74.0, 124.0], [149.0, 124.0], [149.0, 149.0], [74.0, 149.0]], ('VGG16', 0.9970502853393555)], [[[270.0, 124.0], [329.0, 124.0], [329.0, 149.0], [270.0, 149.0]], ('97.26', 0.9998998641967773)], [[[430.0, 124.0], [487.0, 124.0], [487.0, 150.0], [430.0, 150.0]], ('90.31', 0.9999373555183411)], [[[591.0, 124.0], [649.0, 124.0], [649.0, 150.0], [591.0, 150.0]], ('93.20', 0.9998568296432495)], [[[749.0, 124.0], [809.0, 124.0], [809.0, 149.0], [749.0, 149.0]], ('89.64', 0.9999942779541016)], [[[911.0, 124.0], [968.0, 124.0], [968.0, 150.0], [911.0, 150.0]], ('99.31', 0.9999445676803589)], [[[1070.0, 124.0], [1131.0, 124.0], [1131.0, 149.0], [1070.0, 149.0]], ('89.14', 0.9998834729194641)], [[[1230.0, 124.0], [1290.0, 124.0], [1290.0, 149.0], [1230.0, 149.0]], ('94.82', 0.9999628067016602)], [[[74.0, 178.0], [149.0, 178.0], [149.0, 203.0], [74.0, 203.0]], ('VGG19', 0.9971219897270203)], [[[269.0, 178.0], [329.0, 178.0], [329.0, 203.0], [269.0, 203.0]], ('97.17', 0.9983450174331665)], [[[429.0, 178.0], [489.0, 178.0], [489.0, 204.0], [429.0, 204.0]], ('90.53', 0.9781020879745483)], [[[589.0, 178.0], [649.0, 178.0], [649.0, 204.0], [589.0, 204.0]], ('93.38', 0.9999332427978516)], [[[749.0, 178.0], [811.0, 178.0], [811.0, 203.0], [749.0, 203.0]], ('89.94', 0.999970555305481)], [[[909.0, 178.0], [969.0, 178.0], [969.0, 203.0], [909.0, 203.0]], ('99.29', 0.9997987747192383)], [[[1070.0, 178.0], [1129.0, 178.0], [1129.0, 203.0], [1070.0, 203.0]], ('90.02', 0.9996268153190613)], [[[1230.0, 178.0], [1288.0, 178.0], [1288.0, 204.0], [1230.0, 204.0]], ('94.93', 0.9999750256538391)], [[[63.0, 232.0], [159.0, 232.0], [159.0, 257.0], [63.0, 257.0]], ('ResNet34', 0.9998873472213745)], [[[270.0, 232.0], [330.0, 232.0], [330.0, 257.0], [270.0, 257.0]], ('98.50', 0.9997974634170532)], [[[430.0, 231.0], [490.0, 231.0], [490.0, 257.0], [430.0, 257.0]], ('90.64', 0.9992405772209167)], [[[589.0, 232.0], [649.0, 232.0], [649.0, 258.0], [589.0, 258.0]], ('93.73', 0.9993465542793274)], [[[749.0, 232.0], [808.0, 232.0], [808.0, 258.0], [749.0, 258.0]], ('90.93', 0.9999586343765259)], [[[911.0, 231.0], [971.0, 231.0], [971.0, 257.0], [911.0, 257.0]], ('99.74', 0.9995269775390625)], [[[1070.0, 232.0], [1129.0, 232.0], [1129.0, 257.0], [1070.0, 257.0]], ('94.90', 0.9997965097427368)], [[[1228.0, 232.0], [1290.0, 232.0], [1290.0, 257.0], [1228.0, 257.0]], ('95.59', 0.9999135136604309)], [[[63.0, 286.0], [157.0, 286.0], [157.0, 310.0], [63.0, 310.0]], ('ResNet50', 0.9985642433166504)], [[[270.0, 281.0], [329.0, 285.0], [328.0, 311.0], [268.0, 308.0]], ('98.23', 0.9999582171440125)], [[[429.0, 285.0], [490.0, 285.0], [490.0, 310.0], [429.0, 310.0]], ('89.06', 0.9998841285705566)], [[[591.0, 285.0], [649.0, 285.0], [649.0, 311.0], [591.0, 311.0]], ('93.59', 0.9998525381088257)], [[[749.0, 285.0], [809.0, 285.0], [809.0, 310.0], [749.0, 310.0]], ('89.42', 0.9998718500137329)], [[[911.0, 285.0], [969.0, 285.0], [969.0, 311.0], [911.0, 311.0]], ('99.63', 0.9999594688415527)], [[[1068.0, 285.0], [1129.0, 285.0], [1129.0, 311.0], [1068.0, 311.0]], ('93.35', 0.9997546076774597)], [[[1230.0, 285.0], [1288.0, 285.0], [1288.0, 311.0], [1230.0, 311.0]], ('95.01', 0.998310387134552)], [[[57.0, 340.0], [163.0, 340.0], [163.0, 364.0], [57.0, 364.0]], ('ResNet101', 0.9943729043006897)], [[[269.0, 339.0], [331.0, 339.0], [331.0, 364.0], [269.0, 364.0]], ('98.50', 0.9996567964553833)], [[[429.0, 339.0], [490.0, 339.0], [490.0, 364.0], [429.0, 364.0]], ('91.59', 0.9985755085945129)], [[[589.0, 337.0], [650.0, 337.0], [650.0, 364.0], [589.0, 364.0]], ('94.06', 0.9999779462814331)], [[[748.0, 339.0], [808.0, 339.0], [808.0, 364.0], [748.0, 364.0]], ('91.21', 0.9958084225654602)], [[[909.0, 337.0], [971.0, 337.0], [971.0, 364.0], [909.0, 364.0]], ('99.74', 0.999965488910675)], [[[1070.0, 339.0], [1131.0, 339.0], [1131.0, 365.0], [1070.0, 365.0]], ('97.18', 0.9998648762702942)], [[[1228.0, 339.0], [1290.0, 339.0], [1290.0, 365.0], [1228.0, 365.0]], ('95.87', 0.999563992023468)], [[[57.0, 393.0], [164.0, 393.0], [164.0, 417.0], [57.0, 417.0]], ('ResNet152', 0.9966369271278381)], [[[268.0, 393.0], [329.0, 390.0], [331.0, 418.0], [270.0, 421.0]], ('98.76', 0.9999540448188782)], [[[430.0, 393.0], [489.0, 393.0], [489.0, 418.0], [430.0, 418.0]], ('89.68', 0.9999906420707703)], [[[591.0, 392.0], [649.0, 392.0], [649.0, 418.0], [591.0, 418.0]], ('94.04', 0.9998518228530884)], [[[749.0, 393.0], [809.0, 393.0], [809.0, 418.0], [749.0, 418.0]], ('90.99', 0.9998569488525391)], [[[907.0, 391.0], [968.0, 387.0], [970.0, 417.0], [909.0, 421.0]], ('99.61', 0.9999727010726929)], [[[1070.0, 393.0], [1129.0, 393.0], [1129.0, 419.0], [1070.0, 419.0]], ('95.79', 0.9999200701713562)], [[[1228.0, 393.0], [1288.0, 393.0], [1288.0, 419.0], [1228.0, 419.0]], ('95.55', 0.9999586343765259)], [[[56.0, 447.0], [166.0, 447.0], [166.0, 471.0], [56.0, 471.0]], ('ResNeXt50', 0.9985786080360413)], [[[269.0, 446.0], [330.0, 446.0], [330.0, 471.0], [269.0, 471.0]], ('97.92', 0.9990689158439636)], [[[429.0, 446.0], [490.0, 446.0], [490.0, 471.0], [429.0, 471.0]], ('90.68', 0.9998424649238586)], [[[589.0, 446.0], [649.0, 446.0], [649.0, 472.0], [589.0, 472.0]], ('93.77', 0.9984946250915527)], [[[749.0, 446.0], [809.0, 446.0], [809.0, 471.0], [749.0, 471.0]], ('90.55', 0.9972856640815735)], [[[911.0, 446.0], [969.0, 446.0], [969.0, 472.0], [911.0, 472.0]], ('99.75', 0.9996139407157898)], [[[1070.0, 446.0], [1131.0, 446.0], [1131.0, 471.0], [1070.0, 471.0]], ('94.90', 0.9997310638427734)], [[[1230.0, 446.0], [1290.0, 446.0], [1290.0, 472.0], [1230.0, 472.0]], ('95.49', 0.9999362826347351)], [[[53.0, 503.0], [167.0, 503.0], [167.0, 522.0], [53.0, 522.0]], ('ResNeXt101', 0.9570909738540649)], [[[270.0, 500.0], [330.0, 500.0], [330.0, 525.0], [270.0, 525.0]], ('98.76', 0.9998339414596558)], [[[429.0, 499.0], [489.0, 499.0], [489.0, 525.0], [429.0, 525.0]], ('91.45', 0.9993006587028503)], [[[591.0, 500.0], [649.0, 500.0], [649.0, 525.0], [591.0, 525.0]], ('94.82', 0.9999685287475586)], [[[749.0, 500.0], [809.0, 500.0], [809.0, 526.0], [749.0, 526.0]], ('91.79', 0.9997202754020691)], [[[909.0, 500.0], [971.0, 500.0], [971.0, 525.0], [909.0, 525.0]], ('99.66', 0.9999610185623169)], [[[1070.0, 500.0], [1129.0, 500.0], [1129.0, 526.0], [1070.0, 526.0]], ('93.13', 0.9998995661735535)], [[[1230.0, 500.0], [1290.0, 500.0], [1290.0, 525.0], [1230.0, 525.0]], ('96.04', 0.9999040365219116)], [[[40.0, 554.0], [182.0, 554.0], [182.0, 578.0], [40.0, 578.0]], ('WideResNet50', 0.9932668805122375)], [[[270.0, 554.0], [330.0, 554.0], [330.0, 579.0], [270.0, 579.0]], ('98.50', 0.9996274709701538)], [[[429.0, 553.0], [490.0, 553.0], [490.0, 579.0], [429.0, 579.0]], ('91.74', 0.9980027079582214)], [[[589.0, 553.0], [649.0, 553.0], [649.0, 579.0], [589.0, 579.0]], ('94.68', 0.9680086374282837)], [[[749.0, 553.0], [809.0, 553.0], [809.0, 579.0], [749.0, 579.0]], ('91.32', 0.99748694896698)], [[[911.0, 553.0], [969.0, 553.0], [969.0, 579.0], [911.0, 579.0]], ('99.65', 0.9999930262565613)], [[[1070.0, 553.0], [1129.0, 553.0], [1129.0, 579.0], [1070.0, 579.0]], ('95.79', 0.999893844127655)], [[[1230.0, 553.0], [1290.0, 553.0], [1290.0, 579.0], [1230.0, 579.0]], ('95.99', 0.999992847442627)], [[[35.0, 610.0], [185.0, 610.0], [185.0, 629.0], [35.0, 629.0]], ('WideResNet101', 0.9749358892440796)], [[[269.0, 607.0], [330.0, 607.0], [330.0, 632.0], [269.0, 632.0]], ('98.32', 0.9996181726455688)], [[[429.0, 607.0], [490.0, 607.0], [490.0, 632.0], [429.0, 632.0]], ('91.30', 0.9965912699699402)], [[[589.0, 604.0], [649.0, 607.0], [648.0, 635.0], [587.0, 631.0]], ('94.53', 0.9013158082962036)], [[[749.0, 607.0], [809.0, 607.0], [809.0, 632.0], [749.0, 632.0]], ('90.55', 0.9982441663742065)], [[[909.0, 607.0], [971.0, 607.0], [971.0, 632.0], [909.0, 632.0]], ('99.58', 0.9993231892585754)], [[[1068.0, 607.0], [1131.0, 607.0], [1131.0, 632.0], [1068.0, 632.0]], ('92.68', 0.999142050743103)], [[[1230.0, 607.0], [1291.0, 607.0], [1291.0, 632.0], [1230.0, 632.0]], ('95.66', 0.9999774694442749)], [[[43.0, 662.0], [174.0, 662.0], [174.0, 686.0], [43.0, 686.0]], ('DenseNet121', 0.9901161193847656)], [[[269.0, 661.0], [327.0, 661.0], [327.0, 686.0], [269.0, 686.0]], ('98.41', 0.998913586139679)], [[[429.0, 661.0], [489.0, 661.0], [489.0, 686.0], [429.0, 686.0]], ('91.85', 0.9982833862304688)], [[[589.0, 661.0], [649.0, 661.0], [649.0, 686.0], [589.0, 686.0]], ('94.84', 0.9997167587280273)], [[[749.0, 661.0], [809.0, 661.0], [809.0, 686.0], [749.0, 686.0]], ('91.92', 0.9985824823379517)], [[[909.0, 661.0], [969.0, 661.0], [969.0, 687.0], [909.0, 687.0]], ('99.78', 0.9998690485954285)], [[[1070.0, 661.0], [1129.0, 661.0], [1129.0, 686.0], [1070.0, 686.0]], ('96.90', 0.9999595880508423)], [[[1230.0, 661.0], [1290.0, 661.0], [1290.0, 687.0], [1230.0, 687.0]], ('96.20', 0.9997000694274902)], [[[45.0, 715.0], [174.0, 715.0], [174.0, 739.0], [45.0, 739.0]], ('DenseNet161', 0.9950525760650635)], [[[270.0, 714.0], [329.0, 714.0], [329.0, 740.0], [270.0, 740.0]], ('98.45', 0.9999138116836548)], [[[429.0, 710.0], [491.0, 714.0], [489.0, 745.0], [427.0, 741.0]], ('91.63', 0.9999667406082153)], [[[589.0, 714.0], [649.0, 714.0], [649.0, 740.0], [589.0, 740.0]], ('94.68', 0.9894693493843079)], [[[749.0, 715.0], [811.0, 715.0], [811.0, 742.0], [749.0, 742.0]], ('92.39', 0.999971866607666)], [[[911.0, 715.0], [969.0, 715.0], [969.0, 742.0], [911.0, 742.0]], ('99.83', 0.9999862909317017)], [[[1070.0, 714.0], [1128.0, 714.0], [1128.0, 740.0], [1070.0, 740.0]], ('94.01', 0.9984816312789917)], [[[1228.0, 715.0], [1290.0, 715.0], [1290.0, 740.0], [1228.0, 740.0]], ('96.17', 0.9980716705322266)], [[[45.0, 769.0], [177.0, 769.0], [177.0, 793.0], [45.0, 793.0]], ('DenseNet169', 0.9962990283966064)], [[[270.0, 768.0], [329.0, 768.0], [329.0, 793.0], [270.0, 793.0]], ('98.50', 0.9998527765274048)], [[[429.0, 768.0], [490.0, 768.0], [490.0, 793.0], [429.0, 793.0]], ('91.56', 0.9964264631271362)], [[[591.0, 768.0], [649.0, 768.0], [649.0, 794.0], [591.0, 794.0]], ('95.07', 0.999862015247345)], [[[749.0, 768.0], [809.0, 768.0], [809.0, 794.0], [749.0, 794.0]], ('91.70', 0.9977647662162781)], [[[911.0, 768.0], [969.0, 768.0], [969.0, 794.0], [911.0, 794.0]], ('99.69', 0.9999895095825195)], [[[1070.0, 768.0], [1131.0, 768.0], [1131.0, 794.0], [1070.0, 794.0]], ('97.34', 0.999297022819519)], [[[1230.0, 768.0], [1291.0, 768.0], [1291.0, 793.0], [1230.0, 793.0]], ('96.16', 0.9990772008895874)], [[[45.0, 822.0], [174.0, 822.0], [174.0, 846.0], [45.0, 846.0]], ('DenseNet201', 0.9959735870361328)], [[[269.0, 822.0], [330.0, 822.0], [330.0, 847.0], [269.0, 847.0]], ('98.50', 0.9981690645217896)], [[[429.0, 822.0], [490.0, 822.0], [490.0, 847.0], [429.0, 847.0]], ('91.92', 0.9983012080192566)], [[[589.0, 822.0], [649.0, 822.0], [649.0, 847.0], [589.0, 847.0]], ('94.41', 0.998515784740448)], [[[749.0, 822.0], [809.0, 822.0], [809.0, 848.0], [749.0, 848.0]], ('90.93', 0.9992502331733704)], [[[909.0, 822.0], [971.0, 822.0], [971.0, 847.0], [909.0, 847.0]], ('99.80', 0.9993273615837097)], [[[1070.0, 822.0], [1129.0, 822.0], [1129.0, 847.0], [1070.0, 847.0]], ('94.90', 0.9997655153274536)], [[[1228.0, 822.0], [1290.0, 822.0], [1290.0, 847.0], [1228.0, 847.0]], ('95.92', 0.9996970891952515)], [[[40.0, 876.0], [182.0, 876.0], [182.0, 900.0], [40.0, 900.0]], ('EfficientNetB0', 0.9799197316169739)], [[[270.0, 876.0], [329.0, 876.0], [329.0, 901.0], [270.0, 901.0]], ('98.27', 0.9998651742935181)], [[[429.0, 875.0], [489.0, 875.0], [489.0, 901.0], [429.0, 901.0]], ('91.15', 0.9986988306045532)], [[[589.0, 875.0], [649.0, 875.0], [649.0, 901.0], [589.0, 901.0]], ('93.88', 0.9077379107475281)], [[[749.0, 876.0], [811.0, 876.0], [811.0, 901.0], [749.0, 901.0]], ('89.50', 0.999963104724884)], [[[911.0, 875.0], [969.0, 875.0], [969.0, 901.0], [911.0, 901.0]], ('99.45', 0.9999683499336243)], [[[1066.0, 875.0], [1130.0, 872.0], [1131.0, 902.0], [1068.0, 906.0]], ('93.57', 0.9999130368232727)], [[[1230.0, 875.0], [1290.0, 875.0], [1290.0, 901.0], [1230.0, 901.0]], ('95.29', 0.9999819993972778)], [[[39.0, 929.0], [182.0, 929.0], [182.0, 953.0], [39.0, 953.0]], ('EfficientNetB2', 0.9948498606681824)], [[[269.0, 929.0], [329.0, 929.0], [329.0, 954.0], [269.0, 954.0]], ('98.05', 0.9999276399612427)], [[[429.0, 929.0], [489.0, 929.0], [489.0, 954.0], [429.0, 954.0]], ('90.27', 0.9975714683532715)], [[[589.0, 929.0], [649.0, 929.0], [649.0, 954.0], [589.0, 954.0]], ('93.86', 0.999917209148407)], [[[749.0, 929.0], [809.0, 929.0], [809.0, 954.0], [749.0, 954.0]], ('89.44', 0.9997947812080383)], [[[911.0, 929.0], [969.0, 929.0], [969.0, 954.0], [911.0, 954.0]], ('99.53', 0.9999572038650513)], [[[1070.0, 929.0], [1128.0, 929.0], [1128.0, 954.0], [1070.0, 954.0]], ('96.01', 0.9986025094985962)], [[[1230.0, 929.0], [1290.0, 929.0], [1290.0, 954.0], [1230.0, 954.0]], ('95.26', 0.9998380541801453)], [[[39.0, 985.0], [182.0, 985.0], [182.0, 1008.0], [39.0, 1008.0]], ('EfficientNetB4', 0.9946166276931763)], [[[269.0, 983.0], [329.0, 983.0], [329.0, 1010.0], [269.0, 1010.0]], ('98.05', 0.9999861717224121)], [[[429.0, 983.0], [489.0, 983.0], [489.0, 1008.0], [429.0, 1008.0]], ('87.41', 0.9982574582099915)], [[[589.0, 983.0], [650.0, 983.0], [650.0, 1010.0], [589.0, 1010.0]], ('93.08', 0.9999783635139465)], [[[749.0, 983.0], [811.0, 983.0], [811.0, 1008.0], [749.0, 1008.0]], ('88.12', 0.9989944696426392)], [[[909.0, 983.0], [971.0, 983.0], [971.0, 1010.0], [909.0, 1010.0]], ('99.40', 0.9999847412109375)], [[[1070.0, 983.0], [1129.0, 983.0], [1129.0, 1010.0], [1070.0, 1010.0]], ('96.23', 0.9999783635139465)], [[[1228.0, 983.0], [1290.0, 983.0], [1290.0, 1008.0], [1228.0, 1008.0]], ('94.44', 0.9988527297973633)]]\n"
          ]
        }
      ]
    },
    {
      "cell_type": "code",
      "source": [
        "boxes = [line[0] for line in output]\n",
        "texts = [line[1][0] for line in output]\n",
        "probabilities = [line[1][1] for line in output]"
      ],
      "metadata": {
        "id": "nNMBAQ78LDgG"
      },
      "execution_count": 22,
      "outputs": []
    },
    {
      "cell_type": "code",
      "source": [
        "image_boxes = image_cv.copy()\n"
      ],
      "metadata": {
        "id": "uukcg4SWV_dg"
      },
      "execution_count": 23,
      "outputs": []
    },
    {
      "cell_type": "code",
      "source": [
        "for box,text in zip(boxes,texts):\n",
        "  cv2.rectangle(image_boxes, (int(box[0][0]),int(box[0][1])), (int(box[2][0]),int(box[2][1])),(0,0,255),1)\n",
        "  cv2.putText(image_boxes, text,(int(box[0][0]),int(box[0][1])),cv2.FONT_HERSHEY_SIMPLEX,1,(222,0,0),1)"
      ],
      "metadata": {
        "id": "l_HzbiA7V_fw"
      },
      "execution_count": 24,
      "outputs": []
    },
    {
      "cell_type": "code",
      "source": [
        "cv2.imwrite('detections.jpg', image_boxes)"
      ],
      "metadata": {
        "colab": {
          "base_uri": "https://localhost:8080/"
        },
        "id": "PfUG9mcgV_iJ",
        "outputId": "24ed60f0-8433-4350-be1a-e21259f3b15d"
      },
      "execution_count": 25,
      "outputs": [
        {
          "output_type": "execute_result",
          "data": {
            "text/plain": [
              "True"
            ]
          },
          "metadata": {},
          "execution_count": 25
        }
      ]
    },
    {
      "cell_type": "markdown",
      "metadata": {
        "id": "kYWt0lzDHZNp"
      },
      "source": [
        "# Reconstruction"
      ]
    },
    {
      "cell_type": "markdown",
      "source": [
        "## Get Horizontal and Vertical Lines"
      ],
      "metadata": {
        "id": "ruzifYJz4H6y"
      }
    },
    {
      "cell_type": "code",
      "source": [
        "im = image_cv.copy()"
      ],
      "metadata": {
        "id": "YLIoKedcqby_"
      },
      "execution_count": 26,
      "outputs": []
    },
    {
      "cell_type": "code",
      "source": [
        "horiz_boxes = []\n",
        "vert_boxes = []\n",
        "\n",
        "for box in boxes:\n",
        "  x_h, x_v = 0,int(box[0][0])\n",
        "  y_h, y_v = int(box[0][1]),0\n",
        "  width_h,width_v = image_width, int(box[2][0]-box[0][0])\n",
        "  height_h,height_v = int(box[2][1]-box[0][1]),image_height\n",
        "\n",
        "  horiz_boxes.append([x_h,y_h,x_h+width_h,y_h+height_h])\n",
        "  vert_boxes.append([x_v,y_v,x_v+width_v,y_v+height_v])\n",
        "\n",
        "  cv2.rectangle(im,(x_h,y_h), (x_h+width_h,y_h+height_h),(0,0,255),1)\n",
        "  cv2.rectangle(im,(x_v,y_v), (x_v+width_v,y_v+height_v),(0,255,0),1)\n",
        "  "
      ],
      "metadata": {
        "id": "GwcAAe-wccnF"
      },
      "execution_count": 27,
      "outputs": []
    },
    {
      "cell_type": "code",
      "source": [
        "cv2.imwrite('horiz_vert.jpg',im)"
      ],
      "metadata": {
        "colab": {
          "base_uri": "https://localhost:8080/"
        },
        "id": "7UxFGhMkccph",
        "outputId": "be18ff0f-d061-4488-865c-0a81438bcf73"
      },
      "execution_count": 28,
      "outputs": [
        {
          "output_type": "execute_result",
          "data": {
            "text/plain": [
              "True"
            ]
          },
          "metadata": {},
          "execution_count": 28
        }
      ]
    },
    {
      "cell_type": "markdown",
      "source": [
        "## Non-Max Suppression"
      ],
      "metadata": {
        "id": "ekVFvJrM4ROL"
      }
    },
    {
      "cell_type": "code",
      "source": [
        "horiz_out = tf.image.non_max_suppression(\n",
        "    horiz_boxes,\n",
        "    probabilities,\n",
        "    max_output_size = 1000,\n",
        "    iou_threshold=0.1,\n",
        "    score_threshold=float('-inf'),\n",
        "    name=None\n",
        ")"
      ],
      "metadata": {
        "id": "4LVSSB2fcoe7"
      },
      "execution_count": 29,
      "outputs": []
    },
    {
      "cell_type": "code",
      "source": [
        "horiz_lines = np.sort(np.array(horiz_out))\n",
        "print(horiz_lines)"
      ],
      "metadata": {
        "colab": {
          "base_uri": "https://localhost:8080/"
        },
        "id": "pOboYpGnccr2",
        "outputId": "55e8ea2c-2212-4e09-a85e-788aaf1bed41"
      },
      "execution_count": 30,
      "outputs": [
        {
          "output_type": "stream",
          "name": "stdout",
          "text": [
            "[  0   7  15  25  36  41  50  56  63  76  80  90 100 107 114 122 131 140\n",
            " 146 150]\n"
          ]
        }
      ]
    },
    {
      "cell_type": "code",
      "source": [
        "im_nms = image_cv.copy()"
      ],
      "metadata": {
        "id": "pfxHrn3iccyK"
      },
      "execution_count": 31,
      "outputs": []
    },
    {
      "cell_type": "code",
      "source": [
        "for val in horiz_lines:\n",
        "  cv2.rectangle(im_nms, (int(horiz_boxes[val][0]),int(horiz_boxes[val][1])), (int(horiz_boxes[val][2]),int(horiz_boxes[val][3])),(0,0,255),1)\n",
        "  "
      ],
      "metadata": {
        "id": "68PCHfmZcc0L"
      },
      "execution_count": 32,
      "outputs": []
    },
    {
      "cell_type": "code",
      "source": [
        "cv2.imwrite('im_nms.jpg',im_nms)"
      ],
      "metadata": {
        "colab": {
          "base_uri": "https://localhost:8080/"
        },
        "id": "Z8r9qpiAcc2X",
        "outputId": "830d3f24-771f-455b-e999-d46af982bb1d"
      },
      "execution_count": 33,
      "outputs": [
        {
          "output_type": "execute_result",
          "data": {
            "text/plain": [
              "True"
            ]
          },
          "metadata": {},
          "execution_count": 33
        }
      ]
    },
    {
      "cell_type": "code",
      "source": [
        "vert_out = tf.image.non_max_suppression(\n",
        "    vert_boxes,\n",
        "    probabilities,\n",
        "    max_output_size = 1000,\n",
        "    iou_threshold=0.1,\n",
        "    score_threshold=float('-inf'),\n",
        "    name=None\n",
        ")"
      ],
      "metadata": {
        "id": "mKgPuh7rcc4s"
      },
      "execution_count": 34,
      "outputs": []
    },
    {
      "cell_type": "code",
      "source": [
        "print(vert_out)"
      ],
      "metadata": {
        "colab": {
          "base_uri": "https://localhost:8080/"
        },
        "id": "GBpKsImVcc6p",
        "outputId": "e6fe5016-30fc-448d-d303-afed54d70f65"
      },
      "execution_count": 35,
      "outputs": [
        {
          "output_type": "stream",
          "name": "stdout",
          "text": [
            "tf.Tensor([ 25  90  92  63 150 152 155  37], shape=(8,), dtype=int32)\n"
          ]
        }
      ]
    },
    {
      "cell_type": "code",
      "source": [
        "vert_lines = np.sort(np.array(vert_out))\n",
        "print(vert_lines)"
      ],
      "metadata": {
        "colab": {
          "base_uri": "https://localhost:8080/"
        },
        "id": "K0lBh-yz5YLp",
        "outputId": "ff7390b3-62ad-49ab-ad91-d8974cd5b59a"
      },
      "execution_count": 36,
      "outputs": [
        {
          "output_type": "stream",
          "name": "stdout",
          "text": [
            "[ 25  37  63  90  92 150 152 155]\n"
          ]
        }
      ]
    },
    {
      "cell_type": "code",
      "source": [
        "for val in vert_lines:\n",
        "  cv2.rectangle(im_nms, (int(vert_boxes[val][0]),int(vert_boxes[val][1])), (int(vert_boxes[val][2]),int(vert_boxes[val][3])),(255,0,0),1)\n",
        "  "
      ],
      "metadata": {
        "id": "WqsLm0L_cc84"
      },
      "execution_count": 37,
      "outputs": []
    },
    {
      "cell_type": "code",
      "source": [
        "cv2.imwrite('im_nms.jpg',im_nms)"
      ],
      "metadata": {
        "colab": {
          "base_uri": "https://localhost:8080/"
        },
        "id": "xZOEa7lpcdGM",
        "outputId": "1268f56b-dd30-4623-af72-278e587cd615"
      },
      "execution_count": 38,
      "outputs": [
        {
          "output_type": "execute_result",
          "data": {
            "text/plain": [
              "True"
            ]
          },
          "metadata": {},
          "execution_count": 38
        }
      ]
    },
    {
      "cell_type": "markdown",
      "source": [
        "## Convert to CSV"
      ],
      "metadata": {
        "id": "116eBUrO93-i"
      }
    },
    {
      "cell_type": "code",
      "source": [
        "out_array = [[\"\" for i in range(len(vert_lines))] for j in range(len(horiz_lines))]\n",
        "print(np.array(out_array).shape)\n",
        "print(out_array)"
      ],
      "metadata": {
        "colab": {
          "base_uri": "https://localhost:8080/"
        },
        "id": "HRQzwVUTcdIq",
        "outputId": "a5279309-77b6-46be-ca36-6eba32c5e54b"
      },
      "execution_count": 39,
      "outputs": [
        {
          "output_type": "stream",
          "name": "stdout",
          "text": [
            "(20, 8)\n",
            "[['', '', '', '', '', '', '', ''], ['', '', '', '', '', '', '', ''], ['', '', '', '', '', '', '', ''], ['', '', '', '', '', '', '', ''], ['', '', '', '', '', '', '', ''], ['', '', '', '', '', '', '', ''], ['', '', '', '', '', '', '', ''], ['', '', '', '', '', '', '', ''], ['', '', '', '', '', '', '', ''], ['', '', '', '', '', '', '', ''], ['', '', '', '', '', '', '', ''], ['', '', '', '', '', '', '', ''], ['', '', '', '', '', '', '', ''], ['', '', '', '', '', '', '', ''], ['', '', '', '', '', '', '', ''], ['', '', '', '', '', '', '', ''], ['', '', '', '', '', '', '', ''], ['', '', '', '', '', '', '', ''], ['', '', '', '', '', '', '', ''], ['', '', '', '', '', '', '', '']]\n"
          ]
        }
      ]
    },
    {
      "cell_type": "code",
      "source": [
        "unordered_boxes = []\n",
        "\n",
        "for i in vert_lines:\n",
        "  print(vert_boxes[i])\n",
        "  unordered_boxes.append(vert_boxes[i][0])"
      ],
      "metadata": {
        "colab": {
          "base_uri": "https://localhost:8080/"
        },
        "id": "sSrupaRZIAk_",
        "outputId": "d573e2aa-c76d-439a-e21c-9f2f51347800"
      },
      "execution_count": 41,
      "outputs": [
        {
          "output_type": "stream",
          "name": "stdout",
          "text": [
            "[749, 0, 809, 1022]\n",
            "[63, 0, 159, 1022]\n",
            "[430, 0, 489, 1022]\n",
            "[911, 0, 969, 1022]\n",
            "[1230, 0, 1290, 1022]\n",
            "[269, 0, 329, 1022]\n",
            "[589, 0, 650, 1022]\n",
            "[1070, 0, 1129, 1022]\n"
          ]
        }
      ]
    },
    {
      "cell_type": "code",
      "source": [
        "ordered_boxes = np.argsort(unordered_boxes)\n",
        "print(ordered_boxes)"
      ],
      "metadata": {
        "colab": {
          "base_uri": "https://localhost:8080/"
        },
        "id": "lRMlVNh_HuJV",
        "outputId": "9edbc016-f190-4b93-fa21-7f2fbfd68a05"
      },
      "execution_count": 42,
      "outputs": [
        {
          "output_type": "stream",
          "name": "stdout",
          "text": [
            "[1 5 2 6 0 3 7 4]\n"
          ]
        }
      ]
    },
    {
      "cell_type": "code",
      "source": [
        "def intersection(box_1, box_2):\n",
        "  return [box_2[0], box_1[1],box_2[2], box_1[3]]"
      ],
      "metadata": {
        "id": "AHHaxKUuC6jQ"
      },
      "execution_count": 43,
      "outputs": []
    },
    {
      "cell_type": "code",
      "source": [
        "def iou(box_1, box_2):\n",
        "\n",
        "  x_1 = max(box_1[0], box_2[0])\n",
        "  y_1 = max(box_1[1], box_2[1])\n",
        "  x_2 = min(box_1[2], box_2[2])\n",
        "  y_2 = min(box_1[3], box_2[3])\n",
        "\n",
        "  inter = abs(max((x_2 - x_1, 0)) * max((y_2 - y_1), 0))\n",
        "  if inter == 0:\n",
        "      return 0\n",
        "      \n",
        "  box_1_area = abs((box_1[2] - box_1[0]) * (box_1[3] - box_1[1]))\n",
        "  box_2_area = abs((box_2[2] - box_2[0]) * (box_2[3] - box_2[1]))\n",
        "  \n",
        "  return inter / float(box_1_area + box_2_area - inter)"
      ],
      "metadata": {
        "id": "fDVb0DkxJSIf"
      },
      "execution_count": 44,
      "outputs": []
    },
    {
      "cell_type": "code",
      "source": [
        "for i in range(len(horiz_lines)):\n",
        "  for j in range(len(vert_lines)):\n",
        "    resultant = intersection(horiz_boxes[horiz_lines[i]], vert_boxes[vert_lines[ordered_boxes[j]]] )\n",
        "\n",
        "    for b in range(len(boxes)):\n",
        "      the_box = [boxes[b][0][0],boxes[b][0][1],boxes[b][2][0],boxes[b][2][1]]\n",
        "      if(iou(resultant,the_box)>0.1):\n",
        "        out_array[i][j] = texts[b]"
      ],
      "metadata": {
        "id": "LWGhCwg6BIoL"
      },
      "execution_count": 45,
      "outputs": []
    },
    {
      "cell_type": "code",
      "source": [
        "out_array=np.array(out_array)"
      ],
      "metadata": {
        "id": "c4tEY9LGNIM9"
      },
      "execution_count": 46,
      "outputs": []
    },
    {
      "cell_type": "code",
      "source": [
        "out_array"
      ],
      "metadata": {
        "id": "_ekto4-Ymxv2",
        "outputId": "2c7775be-a8e8-4dde-f996-19d17af9d0c2",
        "colab": {
          "base_uri": "https://localhost:8080/"
        }
      },
      "execution_count": 47,
      "outputs": [
        {
          "output_type": "execute_result",
          "data": {
            "text/plain": [
              "array([['', 'Crack', 'SDNET-', 'SDNET-', 'SDNET-', 'Crack', 'Damage',\n",
              "        'Combined'],\n",
              "       ['Model', 'Segmentation', 'Deck', 'Pavement', 'Wall', 'Detection',\n",
              "        'Detection', 'Dataset (%)'],\n",
              "       ['', 'Dataset %', 'Dataset (%)', 'Dataset (%)', 'Dataset (%)',\n",
              "        'Dataset %)', 'Dataset %)', 'Dataset (%)'],\n",
              "       ['VGG16', '97.26', '90.31', '93.20', '89.64', '99.31', '89.14',\n",
              "        '94.82'],\n",
              "       ['VGG19', '97.17', '90.53', '93.38', '89.94', '99.29', '90.02',\n",
              "        '94.93'],\n",
              "       ['ResNet34', '98.50', '90.64', '93.73', '90.93', '99.74', '94.90',\n",
              "        '95.59'],\n",
              "       ['ResNet50', '98.23', '89.06', '93.59', '89.42', '99.63', '93.35',\n",
              "        '95.01'],\n",
              "       ['ResNet101', '98.50', '91.59', '94.06', '91.21', '99.74',\n",
              "        '97.18', '95.87'],\n",
              "       ['ResNet152', '98.76', '89.68', '94.04', '90.99', '99.61',\n",
              "        '95.79', '95.55'],\n",
              "       ['ResNeXt50', '97.92', '90.68', '93.77', '90.55', '99.75',\n",
              "        '94.90', '95.49'],\n",
              "       ['ResNeXt101', '98.76', '91.45', '94.82', '91.79', '99.66',\n",
              "        '93.13', '96.04'],\n",
              "       ['WideResNet50', '98.50', '91.74', '94.68', '91.32', '99.65',\n",
              "        '95.79', '95.99'],\n",
              "       ['WideResNet101', '98.32', '91.30', '94.53', '90.55', '99.58',\n",
              "        '92.68', '95.66'],\n",
              "       ['DenseNet121', '98.41', '91.85', '94.84', '91.92', '99.78',\n",
              "        '96.90', '96.20'],\n",
              "       ['DenseNet161', '98.45', '91.63', '94.68', '92.39', '99.83',\n",
              "        '94.01', '96.17'],\n",
              "       ['DenseNet169', '98.50', '91.56', '95.07', '91.70', '99.69',\n",
              "        '97.34', '96.16'],\n",
              "       ['DenseNet201', '98.50', '91.92', '94.41', '90.93', '99.80',\n",
              "        '94.90', '95.92'],\n",
              "       ['EfficientNetB0', '98.27', '91.15', '93.88', '89.50', '99.45',\n",
              "        '93.57', '95.29'],\n",
              "       ['EfficientNetB2', '98.05', '90.27', '93.86', '89.44', '99.53',\n",
              "        '96.01', '95.26'],\n",
              "       ['EfficientNetB4', '98.05', '87.41', '93.08', '88.12', '99.40',\n",
              "        '96.23', '94.44']], dtype='<U14')"
            ]
          },
          "metadata": {},
          "execution_count": 47
        }
      ]
    },
    {
      "cell_type": "code",
      "source": [
        "pd.DataFrame(out_array).to_csv('sample.csv')"
      ],
      "metadata": {
        "id": "D8UdX80wBI9V"
      },
      "execution_count": 48,
      "outputs": []
    },
    {
      "cell_type": "markdown",
      "source": [
        "## Merging Cells"
      ],
      "metadata": {
        "id": "E693Ela3qhLx"
      }
    },
    {
      "cell_type": "code",
      "source": [
        "current_bank=['']*len(out_array[0,:])\n",
        "print(current_bank)"
      ],
      "metadata": {
        "colab": {
          "base_uri": "https://localhost:8080/"
        },
        "id": "XNcX7fEWPDfw",
        "outputId": "a3be8b2e-61ec-4d17-dda8-7552e7eeb148"
      },
      "execution_count": 49,
      "outputs": [
        {
          "output_type": "stream",
          "name": "stdout",
          "text": [
            "['', '', '', '', '', '', '', '']\n"
          ]
        }
      ]
    },
    {
      "cell_type": "code",
      "source": [
        "def empty(arr):\n",
        "  for i in arr:\n",
        "    if i=='':\n",
        "      return True\n",
        "  return False"
      ],
      "metadata": {
        "id": "TTF5ojcCQJKR"
      },
      "execution_count": 50,
      "outputs": []
    },
    {
      "cell_type": "code",
      "source": [
        "cleaned_array=[]"
      ],
      "metadata": {
        "id": "3w1amnEXSVSB"
      },
      "execution_count": 51,
      "outputs": []
    },
    {
      "cell_type": "code",
      "source": [
        "for i in range(len(out_array)):\n",
        "  if not empty(out_array[i]):\n",
        "    current_bank=[out_array[i][j] for j in range(len(out_array[i]))]\n",
        "    cleaned_array.append(current_bank)\n",
        "    not_empty=True\n",
        "  else:\n",
        "    for j in range(len(out_array[i])):\n",
        "      current_bank[j]+=' '+out_array[i][j]\n",
        "    print('-->',current_bank)\n",
        "cleaned_array=np.array(cleaned_array)\n",
        "print(cleaned_array)"
      ],
      "metadata": {
        "id": "W_q9e2EkPepQ",
        "colab": {
          "base_uri": "https://localhost:8080/"
        },
        "outputId": "bbda4889-fce2-44fb-b9b1-93b0694220cf"
      },
      "execution_count": 52,
      "outputs": [
        {
          "output_type": "stream",
          "name": "stdout",
          "text": [
            "--> [' ', ' Crack', ' SDNET-', ' SDNET-', ' SDNET-', ' Crack', ' Damage', ' Combined']\n",
            "--> ['Model ', 'Segmentation Dataset %', 'Deck Dataset (%)', 'Pavement Dataset (%)', 'Wall Dataset (%)', 'Detection Dataset %)', 'Detection Dataset %)', 'Dataset (%) Dataset (%)']\n",
            "[['Model ' 'Segmentation Dataset %' 'Deck Dataset (%)'\n",
            "  'Pavement Dataset (%)' 'Wall Dataset (%)' 'Detection Dataset %)'\n",
            "  'Detection Dataset %)' 'Dataset (%) Dataset (%)']\n",
            " ['VGG16' '97.26' '90.31' '93.20' '89.64' '99.31' '89.14' '94.82']\n",
            " ['VGG19' '97.17' '90.53' '93.38' '89.94' '99.29' '90.02' '94.93']\n",
            " ['ResNet34' '98.50' '90.64' '93.73' '90.93' '99.74' '94.90' '95.59']\n",
            " ['ResNet50' '98.23' '89.06' '93.59' '89.42' '99.63' '93.35' '95.01']\n",
            " ['ResNet101' '98.50' '91.59' '94.06' '91.21' '99.74' '97.18' '95.87']\n",
            " ['ResNet152' '98.76' '89.68' '94.04' '90.99' '99.61' '95.79' '95.55']\n",
            " ['ResNeXt50' '97.92' '90.68' '93.77' '90.55' '99.75' '94.90' '95.49']\n",
            " ['ResNeXt101' '98.76' '91.45' '94.82' '91.79' '99.66' '93.13' '96.04']\n",
            " ['WideResNet50' '98.50' '91.74' '94.68' '91.32' '99.65' '95.79' '95.99']\n",
            " ['WideResNet101' '98.32' '91.30' '94.53' '90.55' '99.58' '92.68' '95.66']\n",
            " ['DenseNet121' '98.41' '91.85' '94.84' '91.92' '99.78' '96.90' '96.20']\n",
            " ['DenseNet161' '98.45' '91.63' '94.68' '92.39' '99.83' '94.01' '96.17']\n",
            " ['DenseNet169' '98.50' '91.56' '95.07' '91.70' '99.69' '97.34' '96.16']\n",
            " ['DenseNet201' '98.50' '91.92' '94.41' '90.93' '99.80' '94.90' '95.92']\n",
            " ['EfficientNetB0' '98.27' '91.15' '93.88' '89.50' '99.45' '93.57'\n",
            "  '95.29']\n",
            " ['EfficientNetB2' '98.05' '90.27' '93.86' '89.44' '99.53' '96.01'\n",
            "  '95.26']\n",
            " ['EfficientNetB4' '98.05' '87.41' '93.08' '88.12' '99.40' '96.23'\n",
            "  '94.44']]\n"
          ]
        }
      ]
    },
    {
      "cell_type": "code",
      "source": [
        "pd.DataFrame(cleaned_array).to_csv('cleaned.csv')"
      ],
      "metadata": {
        "id": "RZltyMmD_E68"
      },
      "execution_count": 53,
      "outputs": []
    },
    {
      "cell_type": "code",
      "source": [],
      "metadata": {
        "id": "yYxUGKqkkyQ_"
      },
      "execution_count": null,
      "outputs": []
    }
  ],
  "metadata": {
    "accelerator": "GPU",
    "colab": {
      "collapsed_sections": [
        "E693Ela3qhLx",
        "SqFdbM634H5w",
        "FIzj02CHqce7"
      ],
      "provenance": []
    },
    "kernelspec": {
      "display_name": "Python 3",
      "name": "python3"
    },
    "language_info": {
      "name": "python"
    }
  },
  "nbformat": 4,
  "nbformat_minor": 0
}